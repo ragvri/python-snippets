{
 "cells": [
  {
   "cell_type": "markdown",
   "metadata": {},
   "source": [
    "# We will be creating a basic polls application"
   ]
  },
  {
   "cell_type": "markdown",
   "metadata": {},
   "source": [
    "It will have 2 parts:\n",
    "\n",
    "1) A public site that lets people view polls and vote in them\n",
    "\n",
    "2) An admin site that lets you add, change, and delete polls."
   ]
  },
  {
   "cell_type": "markdown",
   "metadata": {
    "collapsed": true
   },
   "source": [
    "Each application that we write in Django consists of a python package that follows certain convention.\n",
    "\n",
    "Django automatically generates the basic directory structure of an app.\n",
    "\n",
    "To create an app **( we need to be in same directory as `manage.py`)**:\n",
    "\n",
    "    python3 manage.py startapp polls\n",
    "    \n"
   ]
  },
  {
   "cell_type": "markdown",
   "metadata": {
    "collapsed": true
   },
   "source": [
    "## Lets write our first view"
   ]
  },
  {
   "cell_type": "markdown",
   "metadata": {},
   "source": [
    "To write the view, open `polls/view.py` and put the following code there:\n",
    "\n",
    "    from django.http import HttpResponse\n",
    "\n",
    "    def index(request):\n",
    "        return HttpResponse(\"Hello, world. You're at the polls index.\")\n",
    "      \n",
    "This is the simplest possible view in django.\n",
    "\n",
    "** To call the view, we need to map it to a url and for that we need `URLconf`**\n",
    "\n"
   ]
  },
  {
   "cell_type": "markdown",
   "metadata": {},
   "source": [
    "To create the `URLconf` in the polls directory, create a file `urls.py`. The app directory looks like:\n",
    "\n",
    "    polls/\n",
    "    __init__.py\n",
    "    admin.py\n",
    "    apps.py\n",
    "    migrations/\n",
    "        __init__.py\n",
    "    models.py\n",
    "    tests.py\n",
    "    urls.py\n",
    "    views.py\n",
    "    \n",
    "In `polls/urls.py` include the following code:\n",
    "\n",
    "    from django.urls import path\n",
    "    from . import views\n",
    "    \n",
    "    urlpatterns = [\n",
    "    path('',views.index, name='index'),\n",
    "    ]"
   ]
  },
  {
   "cell_type": "markdown",
   "metadata": {},
   "source": [
    "Now, we need to point the root URLconf in `mysite/urls.py`, add :\n",
    "\n",
    "    from django.urls import path, include\n",
    "    from django.contrib import admin\n",
    "    \n",
    "    urlpatterns =[\n",
    "    path('polls/', include('polls.urls'),\n",
    "    path('admin/', admin.site.urls),\n",
    "    ]"
   ]
  },
  {
   "cell_type": "markdown",
   "metadata": {},
   "source": [
    "The **`include()`** allows referencing other URLconfs. Whenever django encounters `include()`, it chops off whatever part of url matched upto that point and sends the remaining string to the URLconf for further processing."
   ]
  },
  {
   "cell_type": "markdown",
   "metadata": {},
   "source": [
    "We have now wired an index view to the URLconf. Lets verify this by:\n",
    "\n",
    "    python3 manage.py runserver\n",
    "    \n",
    "Now go to \n",
    "\n",
    "     http://localhost:8000/polls/\n",
    "\n",
    "and see what happens"
   ]
  },
  {
   "cell_type": "markdown",
   "metadata": {},
   "source": [
    "## About `path()`##\n",
    "\n",
    "1) route: string that contains the url pattern\n",
    "2) view: When django finds the matching pattern, it calls the view function with an HttpRequest object as the first and any captured values from the \"route"
   ]
  }
 ],
 "metadata": {
  "kernelspec": {
   "display_name": "Python 3",
   "language": "python",
   "name": "python3"
  },
  "language_info": {
   "codemirror_mode": {
    "name": "ipython",
    "version": 3
   },
   "file_extension": ".py",
   "mimetype": "text/x-python",
   "name": "python",
   "nbconvert_exporter": "python",
   "pygments_lexer": "ipython3",
   "version": "3.5.2"
  }
 },
 "nbformat": 4,
 "nbformat_minor": 2
}
