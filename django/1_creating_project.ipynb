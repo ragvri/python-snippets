{
 "cells": [
  {
   "cell_type": "markdown",
   "metadata": {},
   "source": [
    "# Django Introduction"
   ]
  },
  {
   "cell_type": "markdown",
   "metadata": {},
   "source": [
    "If we are using django for the first time, we need to take care of some initial setup for django.\n",
    "\n",
    "From the command line, cd to the directory where you will like to store the code and run:\n",
    "\n",
    "    django-admin startproject mysite.\n",
    "\n",
    "This will create a django **project**.\n",
    "\n",
    "A project is a python **package**. A package is a collection of modules. eg A.B refers to module B inside package A\n",
    "\n",
    "This will create a new directory by the name of *mysite*."
   ]
  },
  {
   "cell_type": "markdown",
   "metadata": {},
   "source": [
    "This creates a folder by the name of **mysite**"
   ]
  },
  {
   "cell_type": "markdown",
   "metadata": {},
   "source": [
    "Inside this folder, we have:\n",
    "\n",
    "    mysite/\n",
    "        manage.py\n",
    "        mysite/\n",
    "            __init__.py\n",
    "            settings.py\n",
    "            urls.py\n",
    "            wsgi.py\n"
   ]
  },
  {
   "cell_type": "markdown",
   "metadata": {},
   "source": [
    "* The outer `mysite/` root directory is just a container for your project. Its name doesn’t matter to Django; you can rename it to anything you like.\n",
    "\n",
    "\n",
    "* `manage.py`: A command-line utility that lets you interact with this Django project in various ways. Read [here](https://docs.djangoproject.com/en/2.0/ref/django-admin/)\n",
    "\n",
    "\n",
    "* The inner `mysite/` directory is the actual Python package for your project. Its name is the Python package name you’ll need to use to import anything inside it (e.g. `mysite.urls`).\n",
    "\n",
    "\n",
    "* `mysite/__init__.py`: An empty file that tells Python that this directory should be considered a Python package\n",
    "\n",
    "\n",
    "* `mysite/settings.py`: Settings/configuration for this Django project.\n",
    "\n",
    "\n",
    "* `mysite/urls.py`: The URL declarations for this Django project; a “table of contents” of your Django-powered site.\n",
    "\n",
    "\n",
    "* `mysite/wsgi.py`: An entry-point for WSGI-compatible web servers to serve your project."
   ]
  },
  {
   "cell_type": "markdown",
   "metadata": {},
   "source": [
    "## Verify that the project works.\n",
    "\n",
    "**Change to the outer mysite/ folder **\n",
    "\n",
    "Run:\n",
    "\n",
    "    python3 manage.py runserver\n",
    "\n",
    "This starts the django server. \n",
    "\n",
    "Visit the url mentioned in the output. We see a rocket showing that the *server is deployed successfully*\n",
    "\n",
    "** To change the port no**\n",
    "    \n",
    "    python3 manage.py runserver 8080\n",
    "    "
   ]
  },
  {
   "cell_type": "markdown",
   "metadata": {},
   "source": [
    "## Now that the \"Project\" is created we can start doing some work"
   ]
  }
 ],
 "metadata": {
  "kernelspec": {
   "display_name": "Python 3",
   "language": "python",
   "name": "python3"
  },
  "language_info": {
   "codemirror_mode": {
    "name": "ipython",
    "version": 3
   },
   "file_extension": ".py",
   "mimetype": "text/x-python",
   "name": "python",
   "nbconvert_exporter": "python",
   "pygments_lexer": "ipython3",
   "version": "3.5.2"
  }
 },
 "nbformat": 4,
 "nbformat_minor": 2
}
